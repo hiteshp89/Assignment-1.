{
 "cells": [
  {
   "cell_type": "code",
   "execution_count": 150,
   "id": "4fb60da3",
   "metadata": {},
   "outputs": [
    {
     "name": "stdout",
     "output_type": "stream",
     "text": [
      "Python:Exercises::PHP:exercises:\n"
     ]
    }
   ],
   "source": [
    "#Question 1: Write a Python program to replace all occurrences of a space, comma, or dot with a colon.\n",
    "\n",
    "import re\n",
    "Sample_Test = 'Python Exercises, PHP exercises.'\n",
    "print(re.sub(\"[ ,.]\", \":\", Sample_Test))\n"
   ]
  },
  {
   "cell_type": "code",
   "execution_count": 151,
   "id": "bc00b0fa",
   "metadata": {},
   "outputs": [
    {
     "name": "stdout",
     "output_type": "stream",
     "text": [
      "['are', 'evening', 'am', 'able', 'attend', 'evening']\n"
     ]
    }
   ],
   "source": [
    "#Question 2: Write a Python program to find all words starting with 'a' or 'e' in a given string. \n",
    "\n",
    "import re\n",
    "\n",
    "string = 'what time are evening classes in college. I am not able to attend the evening classes'\n",
    "pattern = r'\\b[ae]\\w*\\b'\n",
    "\n",
    "result = re.findall(pattern, string)\n",
    "print(result)"
   ]
  },
  {
   "cell_type": "code",
   "execution_count": 152,
   "id": "9053a816",
   "metadata": {},
   "outputs": [
    {
     "name": "stdout",
     "output_type": "stream",
     "text": [
      "['work', 'very']\n"
     ]
    }
   ],
   "source": [
    "#Question 3 :Create a function in python to find all words that are at least 4 characters long in a string. The use of the re.compile() method is mandatory. \n",
    "\n",
    "import re\n",
    "\n",
    "str1 = \"Finally i am moving to USA for my work its amazing. I am very happy\"\n",
    "\n",
    "string_pattern = r\"\\b\\w{4}\\b\"\n",
    "\n",
    "regex_pattern = re.compile(string_pattern)\n",
    "\n",
    "result = regex_pattern.findall(str1)\n",
    "print(result)"
   ]
  },
  {
   "cell_type": "code",
   "execution_count": 153,
   "id": "0b93966d",
   "metadata": {},
   "outputs": [
    {
     "name": "stdout",
     "output_type": "stream",
     "text": [
      "['USA', 'for', 'work', 'its', 'very', 'happy']\n"
     ]
    }
   ],
   "source": [
    "#Question 4 : Create a function in python to find all three, four, and five character words in a string. The use of the re.compile() method is mandatory.\n",
    "\n",
    "import re\n",
    "\n",
    "str1 = \"Finally i am moving to USA for my work its amazing. I am very happy\"\n",
    "\n",
    "string_pattern = r\"\\b\\w{3,5}\\b\"\n",
    "\n",
    "regex_pattern = re.compile(string_pattern)\n",
    "\n",
    "result = regex_pattern.findall(str1)\n",
    "print(result)"
   ]
  },
  {
   "cell_type": "code",
   "execution_count": 154,
   "id": "a2708aaf",
   "metadata": {},
   "outputs": [
    {
     "name": "stdout",
     "output_type": "stream",
     "text": [
      "example.com\n",
      "hr@fliprobo.com\n",
      "github.com\n",
      "HelloDataScienceWorld\n",
      "DataScientist\n"
     ]
    }
   ],
   "source": [
    "#Question 5: Create a function in Python to remove the parenthesis in a list of strings. The use of the re.compile() method is mandatory.\n",
    "\n",
    "import re\n",
    "\n",
    "items = [\"example (.com)\", \"hr@fliprobo (.com)\", \"github (.com)\", \"Hello (Data Science World)\", \"Data (Scientist)\"]\n",
    "\n",
    "regex_pattern = re.compile(\"[\\s([{})\\]]\")\n",
    "\n",
    "for item in items:\n",
    "\n",
    "    item = regex_pattern.sub(\"\", item)\n",
    " \n",
    "    print(item)"
   ]
  },
  {
   "cell_type": "code",
   "execution_count": 155,
   "id": "24cf0b23",
   "metadata": {},
   "outputs": [
    {
     "name": "stdout",
     "output_type": "stream",
     "text": [
      "[\"example \", \"hr@fliprobo \", \"github \", \"Hello \", \"Data \"]\n"
     ]
    }
   ],
   "source": [
    "#Question 6:Write a python program to remove the parenthesis area from the text stored in the text file using Regular Expression.\n",
    "\n",
    "import re \n",
    "with open('sample.txt', 'r') as f:\n",
    "    text = f.read()\n",
    "    patn = re.sub(r\"\\([^)]*\\)\", \"\", text)\n",
    "print(patn) "
   ]
  },
  {
   "cell_type": "code",
   "execution_count": 156,
   "id": "16b775b8",
   "metadata": {},
   "outputs": [
    {
     "data": {
      "text/plain": [
       "['Importance', 'Of', 'Regular', 'Expressions', 'In', 'Python']"
      ]
     },
     "execution_count": 156,
     "metadata": {},
     "output_type": "execute_result"
    }
   ],
   "source": [
    "#Question 7: Write a regular expression in Python to split a string into uppercase letters.\n",
    "\n",
    "import re \n",
    "\n",
    "string = \"ImportanceOfRegularExpressionsInPython\"\n",
    "\n",
    "pattern = '(?<=.)(?=[A-Z])'\n",
    "\n",
    "result = re.split(pattern, string)\n",
    "result "
   ]
  },
  {
   "cell_type": "code",
   "execution_count": 157,
   "id": "e694e6ec",
   "metadata": {},
   "outputs": [
    {
     "name": "stdout",
     "output_type": "stream",
     "text": [
      "RegularExpression 1IsAn 2ImportantTopic 3InPython\n"
     ]
    }
   ],
   "source": [
    "#Question 8: Create a function in python to insert spaces between words starting with numbers.\n",
    "\n",
    "import re \n",
    "string = \"RegularExpression1IsAn2ImportantTopic3InPython\"\n",
    "\n",
    "pattern = r\"(\\w)([0-9])\"\n",
    "\n",
    "replace = r\"\\1 \\2\"\n",
    "\n",
    "new_string = re.sub(pattern, replace, string)\n",
    "print(new_string)"
   ]
  },
  {
   "cell_type": "code",
   "execution_count": 158,
   "id": "42fb5601",
   "metadata": {},
   "outputs": [
    {
     "name": "stdout",
     "output_type": "stream",
     "text": [
      "RegularExpression 1 IsAn 2 ImportantTopic 3 InPython\n"
     ]
    }
   ],
   "source": [
    "#Question 9:Create a function in python to insert spaces between words starting with capital letters or with numbers.\n",
    "\n",
    "import re \n",
    "string = \"RegularExpression1IsAn2ImportantTopic3InPython\"\n",
    "\n",
    "pattern = r\"(\\w)([0-9])\"\n",
    "\n",
    "replace = r\"\\1 \\2 \"\n",
    "\n",
    "new_string = re.sub(pattern, replace, string)\n",
    "print(new_string) "
   ]
  },
  {
   "cell_type": "code",
   "execution_count": 159,
   "id": "a97d1399",
   "metadata": {},
   "outputs": [
    {
     "name": "stdout",
     "output_type": "stream",
     "text": [
      "['xyz@domain.com', 'xyz.abc@sdomain.domain.com.', 'hr@fliprobo.com']\n"
     ]
    }
   ],
   "source": [
    "#Question 10:Write a python program to extract email address from the text stored in the text file using Regular Expression.\n",
    "\n",
    "import re \n",
    "\n",
    "file = open(\"url.txt\", 'r')\n",
    "\n",
    "text = file.read()\n",
    "\n",
    "matches = re.findall(\"([a-zA-Z0-9.+]+@[a-zA-Z0-9-]+\\.[a-zA-Z0-9-.]+)\", text)\n",
    "\n",
    "print(matches)"
   ]
  },
  {
   "cell_type": "code",
   "execution_count": 160,
   "id": "a0c6a38f",
   "metadata": {},
   "outputs": [
    {
     "data": {
      "text/plain": [
       "<re.Match object; span=(0, 14), match='Xyzandidis008_'>"
      ]
     },
     "execution_count": 160,
     "metadata": {},
     "output_type": "execute_result"
    }
   ],
   "source": [
    "#Question 11:Write a Python program to match a string that contains only upper and lowercase letters, numbers, and underscores. \n",
    "\n",
    "import re \n",
    "string = \"Xyzandidis008_ is awesome \"\n",
    "pattern = '[a-zA-Z0-9_]+'\n",
    "\n",
    "result = re.match(pattern, string)\n",
    "result "
   ]
  },
  {
   "cell_type": "code",
   "execution_count": 161,
   "id": "37276a0b",
   "metadata": {},
   "outputs": [
    {
     "name": "stdout",
     "output_type": "stream",
     "text": [
      "The string starts with 9\n"
     ]
    }
   ],
   "source": [
    "#Question 12: Write a Python program where a string will start with a specific number. \n",
    "\n",
    "import re\n",
    "\n",
    "s = \"9 is my lucky number\"\n",
    "\n",
    "pattern = r\"^9\"\n",
    "\n",
    "if re.match(pattern, s):\n",
    "    print(\"The string starts with 9\")\n",
    "else:\n",
    "    print(\"The string does not start with 9\")"
   ]
  },
  {
   "cell_type": "code",
   "execution_count": 162,
   "id": "81f346e0",
   "metadata": {},
   "outputs": [
    {
     "name": "stdout",
     "output_type": "stream",
     "text": [
      "198.15.65.28\n"
     ]
    }
   ],
   "source": [
    "#Question 13: Write a Python program to remove leading zeros from an IP address.\n",
    "\n",
    "import re\n",
    "IP = \"198.15.065.028\"\n",
    "string = re.sub('\\.[0]*', '.', IP)\n",
    "print(string)"
   ]
  },
  {
   "cell_type": "code",
   "execution_count": 163,
   "id": "d6e0aaa5",
   "metadata": {},
   "outputs": [
    {
     "name": "stdout",
     "output_type": "stream",
     "text": [
      "['August 15th 1947']\n"
     ]
    }
   ],
   "source": [
    "#Question 14: Write a regular expression in python to match a date string in the form of Month name followed by day number and year stored in a text file. \n",
    "\n",
    "import re \n",
    "\n",
    "file = open(\"15aug.txt\", 'r')\n",
    "\n",
    "text = file.read()\n",
    "\n",
    "date = re.findall(r'\\b([A-Z][a-z]+\\s\\d{1,2}(?:st|nd|rd|th)?\\s\\d{4})\\b', text)\n",
    "\n",
    "print(date)"
   ]
  },
  {
   "cell_type": "code",
   "execution_count": 173,
   "id": "fb8931b1",
   "metadata": {},
   "outputs": [
    {
     "name": "stdout",
     "output_type": "stream",
     "text": [
      "Found match for 'fox'\n",
      "Found match for 'dog'\n",
      "No match found for 'horse'\n"
     ]
    }
   ],
   "source": [
    "#Question 15: Write a Python program to search some literals strings in a string. \n",
    "import re\n",
    "\n",
    "def search_literal_strings(patterns, text):\n",
    "    for pattern in patterns:\n",
    "        \n",
    "        result = re.search(pattern, text)\n",
    "        if result:\n",
    "            print(f\"Found match for '{pattern}'\")\n",
    "        else:\n",
    "            print(f\"No match found for '{pattern}'\")\n",
    "\n",
    "text = \"The quick brown fox jumps over the lazy dog.\"\n",
    "patterns = [\"fox\", \"dog\", \"horse\"]\n",
    "\n",
    "search_literal_strings(patterns, text)"
   ]
  },
  {
   "cell_type": "code",
   "execution_count": 174,
   "id": "c5ca60c5",
   "metadata": {},
   "outputs": [
    {
     "data": {
      "text/plain": [
       "<re.Match object; span=(16, 19), match='fox'>"
      ]
     },
     "execution_count": 174,
     "metadata": {},
     "output_type": "execute_result"
    }
   ],
   "source": [
    "#Question 16: Write a Python program to search a literals string in a string and also find the location within the original string where the pattern occurs. \n",
    "\n",
    "import re\n",
    "\n",
    "pattern = \"fox\"\n",
    "\n",
    "regex_object = re.compile(pattern)\n",
    "\n",
    "text = 'The quick brown fox jumps over the lazy dog.'\n",
    "\n",
    "match_object = regex_object.search(text)\n",
    "match_object "
   ]
  },
  {
   "cell_type": "code",
   "execution_count": 175,
   "id": "baa2b270",
   "metadata": {},
   "outputs": [
    {
     "name": "stdout",
     "output_type": "stream",
     "text": [
      "['exercises', 'exercises', 'exercises']\n"
     ]
    }
   ],
   "source": [
    "#Question 17: Write a Python program to find the substrings within a string. \n",
    "\n",
    "import re\n",
    "my_string = 'Python exercises, PHP exercises, C# exercises'\n",
    "substring = 'exercises'\n",
    "result = re.findall(substring, my_string)\n",
    "print(result)"
   ]
  },
  {
   "cell_type": "code",
   "execution_count": 176,
   "id": "583ebc9c",
   "metadata": {},
   "outputs": [
    {
     "name": "stdout",
     "output_type": "stream",
     "text": [
      "match \"NewYork\" at 6:13\n",
      "match \"NewYork\" at 15:22\n",
      "match \"NewYork\" at 31:38\n"
     ]
    }
   ],
   "source": [
    "#Question 18: Write a Python program to find the occurrence and position of the substrings within a string.\n",
    "\n",
    "import re\n",
    "string = 'Hello NewYork ,NewYork, I love NewYork'\n",
    "pattern = 'NewYork'\n",
    "for match in re.finditer(pattern, string):\n",
    "    s = match.start()\n",
    "    e = match.end()\n",
    "    print('match \"%s\" at %d:%d' % (string[s:e], s, e))"
   ]
  },
  {
   "cell_type": "code",
   "execution_count": 177,
   "id": "fec634d6",
   "metadata": {},
   "outputs": [
    {
     "name": "stdout",
     "output_type": "stream",
     "text": [
      "06-08-2023\n"
     ]
    }
   ],
   "source": [
    "#Question 19: Write a Python program to convert a date of yyyy-mm-dd format to dd-mm-yyyy format.\n",
    "\n",
    "import re\n",
    "original_date = \"2023-08-06\"\n",
    "new_date = re.sub(r'(\\d{4})-(\\d{2})-(\\d{2})', '\\\\3-\\\\2-\\\\1', original_date)\n",
    "print(new_date)\n"
   ]
  },
  {
   "cell_type": "code",
   "execution_count": 178,
   "id": "aeec6dbe",
   "metadata": {},
   "outputs": [
    {
     "name": "stdout",
     "output_type": "stream",
     "text": [
      "['10.50', '25.3', '2.75']\n"
     ]
    }
   ],
   "source": [
    "#Question 20: Create a function in python to find all decimal numbers with a precision of 1 or 2 in a string. The use of the re.compile() method is mandatory.\n",
    "import re\n",
    "\n",
    "pattern = r\"\\d+\\.\\d{1,2}\"\n",
    "\n",
    "regex_object = re.compile(pattern)\n",
    "\n",
    "text = \"The price is $10.50, the temperature is 25.3°C, and the weight is 2.75 kg .\"\n",
    "\n",
    "match_object = regex_object.findall(text)\n",
    "print(match_object) "
   ]
  },
  {
   "cell_type": "code",
   "execution_count": 179,
   "id": "6abdb971",
   "metadata": {},
   "outputs": [
    {
     "name": "stdout",
     "output_type": "stream",
     "text": [
      "250\n",
      "position: 29\n",
      "25\n",
      "position: 76\n",
      "10\n",
      "position: 111\n",
      "1\n",
      "position: 126\n"
     ]
    }
   ],
   "source": [
    "#Question 21: Write a Python program to separate and print the numbers and their position of a given string.\n",
    "\n",
    "import re\n",
    "\n",
    "string = \"There is a basket containing 250 apples, how do you divide the apples among 25 children so that each child has 10 apple while 1 apple remains in the basket?\"\n",
    "\n",
    "for match in re.finditer(\"\\d+\", string):\n",
    "    print(match.group(0))\n",
    "    print(\"position:\", match.start())"
   ]
  },
  {
   "cell_type": "code",
   "execution_count": 180,
   "id": "dd8fe550",
   "metadata": {},
   "outputs": [
    {
     "name": "stdout",
     "output_type": "stream",
     "text": [
      "Max_value: 950\n"
     ]
    }
   ],
   "source": [
    "#Question 22: Write a regular expression in python program to extract maximum/largest numeric value from a string. \n",
    "\n",
    "import re\n",
    "\n",
    "string= \"My marks in each semester are: 947, 896, 926, 524, 734, 950, 642\"\n",
    "\n",
    "number = re.findall('\\d+', string)\n",
    "\n",
    "number = map(int, number)\n",
    "print(\"Max_value:\",max(number))"
   ]
  },
  {
   "cell_type": "code",
   "execution_count": 181,
   "id": "f13ecd5d",
   "metadata": {},
   "outputs": [
    {
     "name": "stdout",
     "output_type": "stream",
     "text": [
      "Regular Expression Is An Important Topic In Python\n"
     ]
    }
   ],
   "source": [
    "#Question 23: Create a function in python to insert spaces between words starting with capital letters.\n",
    "\n",
    "import re\n",
    "\n",
    "string= \"RegularExpressionIsAnImportantTopicInPython\"\n",
    "\n",
    "result = re.sub(r\"(\\w)([A-Z])\", r\"\\1 \\2\", string)\n",
    "\n",
    "print(result)"
   ]
  },
  {
   "cell_type": "code",
   "execution_count": 182,
   "id": "8bbeb025",
   "metadata": {},
   "outputs": [
    {
     "name": "stdout",
     "output_type": "stream",
     "text": [
      "Found a match!\n",
      "Found a match!\n",
      "Not matched!\n",
      "Not matched!\n"
     ]
    }
   ],
   "source": [
    "#Question 24: Python regex to find sequences of one upper case letter followed by lower case letters  \n",
    "\n",
    "import re\n",
    "def string_match(string):\n",
    "        patterns = '[A-Z]+[a-z]+$'\n",
    "        \n",
    "        if re.search(patterns, string):\n",
    "                return ('Found a match!')\n",
    "        else:\n",
    "                return('Not matched!')\n",
    "            \n",
    "print(string_match(\"XxYyZz\"))\n",
    "print(string_match(\"Abcdef\"))\n",
    "print(string_match(\"regex\"))\n",
    "print(string_match(\"PYTHON\"))"
   ]
  },
  {
   "cell_type": "code",
   "execution_count": 183,
   "id": "dd7b3a81",
   "metadata": {},
   "outputs": [
    {
     "name": "stdout",
     "output_type": "stream",
     "text": [
      "Hello hello world \n"
     ]
    }
   ],
   "source": [
    "#Question 25: Write a Python program to remove continuous duplicate words from Sentence using Regular Expression.\n",
    "\n",
    "string = \"Hello hello world world \"\n",
    "\n",
    "pattern = r'\\b(\\w+)(?:\\W+\\1\\b)+'\n",
    "\n",
    "result = re.sub(r'\\b(\\w+)(?:\\W+\\1\\b)+', r'\\1', string )\n",
    "print(result)"
   ]
  },
  {
   "cell_type": "code",
   "execution_count": 172,
   "id": "dcd68aa2",
   "metadata": {},
   "outputs": [
    {
     "name": "stdout",
     "output_type": "stream",
     "text": [
      "Found a match!\n",
      "Not matched!\n",
      "Not matched!\n",
      "Found a match!\n"
     ]
    }
   ],
   "source": [
    "#Question 26 : Write a python program using RegEx to accept string ending with alphanumeric character.\n",
    "\n",
    "import re\n",
    "def string_match(string):\n",
    "        patterns = '[a-zA-z0-9]$'\n",
    "        \n",
    "        if re.search(patterns, string):\n",
    "                return ('Found a match!')\n",
    "        else:\n",
    "                return('Not matched!')\n",
    "            \n",
    "print(string_match(\"hr@fliprobo\"))\n",
    "print(string_match(\"Python.\"))\n",
    "print(string_match(\"python@\"))\n",
    "print(string_match(\"PYTHON123\"))"
   ]
  },
  {
   "cell_type": "code",
   "execution_count": 167,
   "id": "e647f27a",
   "metadata": {},
   "outputs": [
    {
     "name": "stdout",
     "output_type": "stream",
     "text": [
      "['#Doltiwal', '#xyzabc', '#Demonetization']\n"
     ]
    }
   ],
   "source": [
    "#Question 27: Write a python program using RegEx to extract the hashtags.\n",
    "\n",
    "\n",
    "import re \n",
    "\n",
    "string = \"\"\"RT @kapil_kausik: #Doltiwal I mean #xyzabc is \"hurt\" by #Demonetization as the same has rendered USELESS <ed><U+00A0><U+00BD><ed><U+00B1><U+0089> \"acquired funds\" No wo\"\"\"\n",
    "\n",
    "pattern = r'(?i)\\#\\w+'\n",
    "\n",
    "result = re.findall(pattern, string)\n",
    "print(result)"
   ]
  },
  {
   "cell_type": "code",
   "execution_count": 166,
   "id": "d98f48c6",
   "metadata": {},
   "outputs": [
    {
     "name": "stdout",
     "output_type": "stream",
     "text": [
      "@Jags123456 Bharat band on 28??<ed><ed>Those who  are protesting #demonetization  are all different party leaders\n"
     ]
    }
   ],
   "source": [
    "#Question 28:Write a python program using RegEx to remove <U+..> like symbols Check the below sample text, there are strange symbols something of the sort <U+..> all over the place. You need to come up with a general Regex expression that will cover all such symbols.\n",
    " \n",
    "\n",
    "import re \n",
    "\n",
    "string = \"@Jags123456 Bharat band on 28??<ed><U+00A0><U+00BD><ed><U+00B8><U+0082>Those who  are protesting #demonetization  are all different party leaders\"\n",
    "\n",
    "\n",
    "result = re.sub(\"\\\\s*<U\\\\+\\\\w+>\\\\s*\", \"\", string)\n",
    "               \n",
    "print(result)"
   ]
  },
  {
   "cell_type": "code",
   "execution_count": 165,
   "id": "9524fac2",
   "metadata": {},
   "outputs": [
    {
     "name": "stdout",
     "output_type": "stream",
     "text": [
      "['12-09-1992', '15-12-1999']\n"
     ]
    }
   ],
   "source": [
    "#Question 29: Write a python program to extract dates from the text stored in the text file. \n",
    "\n",
    "import re \n",
    "\n",
    "file = open(\"Ron.txt\", 'r')\n",
    "\n",
    "text = file.read()\n",
    "\n",
    "dates = re.findall(\"\\d{2}[/-]\\d{2}[/-]\\d{4}\", text)\n",
    "\n",
    "print(dates)"
   ]
  },
  {
   "cell_type": "code",
   "execution_count": 164,
   "id": "0976fc76",
   "metadata": {},
   "outputs": [
    {
     "name": "stdout",
     "output_type": "stream",
     "text": [
      " following example creates ArrayList a capacity elements. 4 elements added ArrayList ArrayList trimmed accordingly.\n"
     ]
    }
   ],
   "source": [
    "#Question 30: Create a function in python to remove all words from a string of length between 2 and 4. \n",
    "\n",
    "import re\n",
    "string = \"The following example creates an ArrayList with a capacity of 50 elements. 4 elements are then added to the ArrayList and the ArrayList is trimmed accordingly.\"\n",
    "\n",
    "regex_object = re.compile(r'\\W*\\b\\w{2,4}\\b')\n",
    "print(regex_object.sub('', string))"
   ]
  }
 ],
 "metadata": {
  "kernelspec": {
   "display_name": "Python 3 (ipykernel)",
   "language": "python",
   "name": "python3"
  },
  "language_info": {
   "codemirror_mode": {
    "name": "ipython",
    "version": 3
   },
   "file_extension": ".py",
   "mimetype": "text/x-python",
   "name": "python",
   "nbconvert_exporter": "python",
   "pygments_lexer": "ipython3",
   "version": "3.9.13"
  }
 },
 "nbformat": 4,
 "nbformat_minor": 5
}
